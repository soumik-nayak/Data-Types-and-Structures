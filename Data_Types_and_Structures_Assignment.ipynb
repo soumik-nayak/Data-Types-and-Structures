{
  "nbformat": 4,
  "nbformat_minor": 0,
  "metadata": {
    "colab": {
      "provenance": []
    },
    "kernelspec": {
      "name": "python3",
      "display_name": "Python 3"
    },
    "language_info": {
      "name": "python"
    }
  },
  "cells": [
    {
      "cell_type": "markdown",
      "source": [
        "#Data Types and Structures Questions"
      ],
      "metadata": {
        "id": "pFf76u8KqI1-"
      }
    },
    {
      "cell_type": "markdown",
      "source": [
        "1. What are data structures, and why are they important?\n",
        "\n",
        "  -> Data structures are organized formats to store and manage data efficiently.\n",
        "They enable easy data access, modification, and processing.\n",
        "Examples include lists, dictionaries, tuples, and sets in Python.\n",
        "Importance :\n",
        "    - Efficient data storage.\n",
        "    - Faster data manipulation and retrieval.\n",
        "    - Essential for algorithm design and optimization.\n",
        "2. Explain the difference between mutable and immutable data types with examples.\n",
        "\n",
        "   ->\n",
        "-Mutable data types can be changed after creation. Example: lists, dictionaries\n",
        "\n",
        "    my_list = [1, 2, 3]\n",
        "\n",
        "    my_list.append(4)  # Modifies the list.\n",
        "\n",
        "-immutable data types cannot be changed after creation. Example: tuples, strings.\n",
        "\n",
        "\n",
        "    my_tuple = (1, 2, 3)\n",
        "    my_tuple[0] = 4  # Raises an error.\n",
        "3. What are the main differences between lists and tuples in Python?\n",
        "   \n",
        "   ->\n",
        "    - List is mutable,\n",
        "    - list is also slower,\n",
        "    -  syntax of list - [1,2,3]\n",
        "    - used for dynamic data\n",
        "\n",
        "   where as\n",
        "   - Tuple is immutable ,\n",
        "   - tuple is faster ,\n",
        "   -  syntax of tuple - (1,2,3)\n",
        "   - used for fixed data\n",
        "  \n",
        "4. Describe how dictionaries store data.\n",
        "\n",
        "   -> Dictionaries store data as key-value pairs using a hash table. Keys are hashed to find a location in memory, allowing efficient data retrieval.\n",
        "\n",
        "5. Why might you use a set instead of a list in Python?\n",
        "   \n",
        "   -> Sets are useful when:\n",
        "\n",
        "  - Duplicates need to be eliminated.\n",
        "  - Membership tests are required (faster than lists)\n",
        "\n",
        "    example :\n",
        "         my_set = {1, 2, 3}\n",
        "         print(2 in my_set)\n"
      ],
      "metadata": {
        "id": "nUEvEwr7GYp1"
      }
    },
    {
      "cell_type": "code",
      "source": [
        "# 6. What is a string in Python, and how is it different from a list?\n",
        "'''\n",
        "String: A sequence of characters enclosed in quotes (\" \" or ' '), immutable.\n",
        "List: A collection of elements (of any data type), mutable.\n",
        "\n",
        "example: my_string = \"hello\"  # Immutable\n",
        "         my_list = ['h', 'e', 'l', 'l', 'o']  # Mutable\n",
        "\n",
        "'''\n"
      ],
      "metadata": {
        "colab": {
          "base_uri": "https://localhost:8080/",
          "height": 56
        },
        "id": "U73lL5tIkE69",
        "outputId": "d884cb42-1e5c-44bd-8dfb-b1460fb08665"
      },
      "execution_count": 2,
      "outputs": [
        {
          "output_type": "execute_result",
          "data": {
            "text/plain": [
              "'\\nString: A sequence of characters enclosed in quotes (\" \" or \\' \\'), immutable.\\nList: A collection of elements (of any data type), mutable.\\n\\nexample: my_string = \"hello\"  # Immutable\\n         my_list = [\\'h\\', \\'e\\', \\'l\\', \\'l\\', \\'o\\']  # Mutable\\n\\n'"
            ],
            "application/vnd.google.colaboratory.intrinsic+json": {
              "type": "string"
            }
          },
          "metadata": {},
          "execution_count": 2
        }
      ]
    },
    {
      "cell_type": "code",
      "source": [
        "# 7. How do tuples ensure data integrity in Python?\n",
        "'''\n",
        "Tuples are immutable, preventing accidental changes to data.\n",
        "This ensures data consistency, especially when the data represents fixed values like coordinates.\n",
        "'''"
      ],
      "metadata": {
        "id": "BMl73IYclBbm"
      },
      "execution_count": null,
      "outputs": []
    },
    {
      "cell_type": "code",
      "source": [
        "# 8. What is a hash table, and how does it relate to dictionaries in Python?\n",
        "'''\n",
        "A hash table is a data structure that uses a hash function to map keys to values.\n",
        "Python dictionaries internally use hash tables to allow O(1) average-time complexity for lookups.\n",
        "'''\n"
      ],
      "metadata": {
        "id": "j2kmv3vvlQs2"
      },
      "execution_count": null,
      "outputs": []
    },
    {
      "cell_type": "code",
      "source": [
        "#9. Can lists contain different data types in Python?\n",
        "'''\n",
        "Yes, Python lists can store elements of different data types:\n",
        "mixed_list = [1, \"string\", 3.14, [1, 2, 3]]\n",
        "\n",
        "'''"
      ],
      "metadata": {
        "id": "K57DDlB1lWaU"
      },
      "execution_count": null,
      "outputs": []
    },
    {
      "cell_type": "code",
      "source": [
        "# 10. Explain why strings are immutable in Python.\n",
        "'''\n",
        "Strings are immutable to:\n",
        " -Enhance performance and memory efficiency (reuse strings).\n",
        "-Prevent accidental changes (data integrity).\n",
        "\n",
        "'''"
      ],
      "metadata": {
        "id": "qqY1EN9algsM"
      },
      "execution_count": null,
      "outputs": []
    },
    {
      "cell_type": "code",
      "source": [
        "# 11. What advantages do dictionaries offer over lists for certain tasks?\n",
        "'''\n",
        "Dictionaries allow:\n",
        "\n",
        " -Fast lookups (O(1) average time complexity).\n",
        " -Key-based access, making them ideal for mappings.\n",
        "'''"
      ],
      "metadata": {
        "id": "TIfLh-LylhA0"
      },
      "execution_count": null,
      "outputs": []
    },
    {
      "cell_type": "code",
      "source": [
        "# 12. How do sets handle duplicate values in Python?\n",
        "'''\n",
        "Sets automatically eliminate duplicates. Adding duplicate values to a set has no effect.\n",
        "code :\n",
        "my_set = {1, 2, 2, 3}\n",
        "print(my_set)  # Output: {1, 2, 3}\n",
        "\n",
        "'''"
      ],
      "metadata": {
        "id": "1x-YwvNIlhHO"
      },
      "execution_count": null,
      "outputs": []
    },
    {
      "cell_type": "code",
      "source": [
        "# 13. Describe a scenario where using a tuple would be preferable over a list.\n",
        "'''\n",
        "Use tuples when the data should not be modified, such as representing coordinates or configuration settings:\n",
        "coordinates = (42.3601, -71.0589)\n",
        "'''"
      ],
      "metadata": {
        "id": "p33Wdzb4lhMG"
      },
      "execution_count": null,
      "outputs": []
    },
    {
      "cell_type": "code",
      "source": [
        "# 14. How does the “in” keyword work differently for lists and dictionaries?\n",
        "'''\n",
        "List: Checks if a value exists.\n",
        "    my_list = [1, 2, 3]\n",
        "    print(2 in my_list)  # Output: True\n",
        "Dictionary: Checks if a key exists.\n",
        "    my_dict = {'a': 1, 'b': 2, 'c': 3}\n",
        "    print('b' in my_dict)  # Output: True\n",
        "\n",
        "'''"
      ],
      "metadata": {
        "id": "-IVXwb5LlhP6"
      },
      "execution_count": null,
      "outputs": []
    },
    {
      "cell_type": "code",
      "source": [
        "# 15. Can you modify the elements of a tuple? Explain why or why not.\n",
        "'''\n",
        "No, tuples are immutable. Elements cannot be modified, added, or removed after creation.\n",
        "'''\n"
      ],
      "metadata": {
        "id": "D0n_yio0lhUy"
      },
      "execution_count": null,
      "outputs": []
    },
    {
      "cell_type": "code",
      "source": [
        "# 16. What is a nested dictionary, and give an example of its use case.\n",
        "'''\n",
        "A nested dictionary is a dictionary within a dictionary.\n",
        "Example: Storing student information.\n",
        "     students = {\n",
        "    \"Alice\": {\"age\": 20, \"grades\": [85, 90]},\n",
        "    \"Bob\": {\"age\": 22, \"grades\": [75, 80]}\n",
        "}\n",
        "\n",
        "'''"
      ],
      "metadata": {
        "id": "IcXIfmpQlhYs"
      },
      "execution_count": null,
      "outputs": []
    },
    {
      "cell_type": "code",
      "source": [
        "# 17. Describe the time complexity of accessing elements in a dictionary.\n",
        "'''\n",
        "Accessing elements in a dictionary has an average time complexity of O(1) due to hash table implementation.\n",
        "'''\n"
      ],
      "metadata": {
        "id": "NyoDPKPclhcE"
      },
      "execution_count": null,
      "outputs": []
    },
    {
      "cell_type": "code",
      "source": [
        "# 18. In what situations are lists preferred over dictionaries?\n",
        "'''\n",
        "Lists are preferred when:\n",
        " -The order of elements is crucial.\n",
        " -Sequential processing or indexing is required.\n",
        "'''"
      ],
      "metadata": {
        "id": "45w59pUolhfI"
      },
      "execution_count": null,
      "outputs": []
    },
    {
      "cell_type": "code",
      "source": [
        "# 19. Why are dictionaries considered unordered, and how does that affect data retrieval?\n",
        "'''\n",
        "Dictionaries were unordered in older Python versions (before 3.7).\n",
        "The order of key insertion wasn't preserved, but retrieval is based on key-value pairs, not positions.\n",
        "'''\n"
      ],
      "metadata": {
        "id": "6g3Bd5S3lhht"
      },
      "execution_count": null,
      "outputs": []
    },
    {
      "cell_type": "code",
      "source": [
        "# 20. Explain the difference between a list and a dictionary in terms of data retrieval.\n",
        "'''\n",
        "List: Access by index\n",
        "    my_list = [10, 20, 30]\n",
        "    print(my_list[1])  # Output: 20\n",
        "\n",
        "Dictionary: Access by key.\n",
        "    my_dict = {'a': 10, 'b': 20}\n",
        "    print(my_dict['b'])  # Output: 20\n",
        "'''"
      ],
      "metadata": {
        "id": "6XZ-_-qHlhkb"
      },
      "execution_count": null,
      "outputs": []
    },
    {
      "cell_type": "markdown",
      "source": [
        "# PRACTICAL QUESTIONS\n"
      ],
      "metadata": {
        "id": "pSNTto6jqBDu"
      }
    },
    {
      "cell_type": "code",
      "source": [
        "#1. Write a code to create a string with your name and print it\n",
        "\n",
        "name = \"Soumik Nayak\"\n",
        "print(name)\n"
      ],
      "metadata": {
        "colab": {
          "base_uri": "https://localhost:8080/"
        },
        "id": "pHfDVS31qGZb",
        "outputId": "db5661cb-c5c7-4be7-dca2-2a7571298b40"
      },
      "execution_count": 4,
      "outputs": [
        {
          "output_type": "stream",
          "name": "stdout",
          "text": [
            "Soumik Nayak\n"
          ]
        }
      ]
    },
    {
      "cell_type": "code",
      "source": [
        "# 2. # Write a code to find the length of the string \"Hello World\"\n",
        "string = \"Hello World\"\n",
        "length = len(string)\n",
        "print(length)\n"
      ],
      "metadata": {
        "colab": {
          "base_uri": "https://localhost:8080/"
        },
        "id": "Iz3GlnfTqZGL",
        "outputId": "d024c166-0363-4cc6-b2ff-5a8b1a36e079"
      },
      "execution_count": 5,
      "outputs": [
        {
          "output_type": "stream",
          "name": "stdout",
          "text": [
            "11\n"
          ]
        }
      ]
    },
    {
      "cell_type": "code",
      "source": [
        "#3. Write a code to slice the first 3 characters from the string \"Python Programming\"\n",
        "string = \"Python Programming\"\n",
        "sliced = string[:3]\n",
        "print(sliced)\n"
      ],
      "metadata": {
        "colab": {
          "base_uri": "https://localhost:8080/"
        },
        "id": "Xtxh8QCOq3Y3",
        "outputId": "96ae96b4-469e-49d9-c4c4-d57c5e96b4fc"
      },
      "execution_count": 6,
      "outputs": [
        {
          "output_type": "stream",
          "name": "stdout",
          "text": [
            "Pyt\n"
          ]
        }
      ]
    },
    {
      "cell_type": "code",
      "source": [
        "#4. Write a code to convert the string \"hello\" to uppercase\n",
        "string = \"hello\"\n",
        "uppercase = string.upper()\n",
        "print(uppercase)\n"
      ],
      "metadata": {
        "colab": {
          "base_uri": "https://localhost:8080/"
        },
        "id": "naHt-a7mq6zg",
        "outputId": "cadf7d7f-05b3-4fb6-bce2-43ae8697283e"
      },
      "execution_count": 7,
      "outputs": [
        {
          "output_type": "stream",
          "name": "stdout",
          "text": [
            "HELLO\n"
          ]
        }
      ]
    },
    {
      "cell_type": "code",
      "source": [
        "#5. Write a code to replace the word \"apple\" with \"orange\" in the string \"I like apple\"\n",
        "string = \"I like apple\"\n",
        "replaced = string.replace(\"apple\", \"orange\")\n",
        "print(replaced)\n"
      ],
      "metadata": {
        "colab": {
          "base_uri": "https://localhost:8080/"
        },
        "id": "HCD_Q_Xxq8a2",
        "outputId": "1060fa36-141e-4f51-f7e2-49d1ebc1d848"
      },
      "execution_count": 8,
      "outputs": [
        {
          "output_type": "stream",
          "name": "stdout",
          "text": [
            "I like orange\n"
          ]
        }
      ]
    },
    {
      "cell_type": "code",
      "source": [
        "#6. Write a code to create a list with numbers 1 to 5 and print it\n",
        "numbers = [1, 2, 3, 4, 5]\n",
        "print(numbers)\n"
      ],
      "metadata": {
        "colab": {
          "base_uri": "https://localhost:8080/"
        },
        "id": "0FCS1cnZq91a",
        "outputId": "02d51e13-9c3a-4bc2-8b34-42d3ea78c38b"
      },
      "execution_count": 9,
      "outputs": [
        {
          "output_type": "stream",
          "name": "stdout",
          "text": [
            "[1, 2, 3, 4, 5]\n"
          ]
        }
      ]
    },
    {
      "cell_type": "code",
      "source": [
        "#7. Write a code to append the number 10 to the list [1, 2, 3, 4]\n",
        "numbers = [1, 2, 3, 4]\n",
        "numbers.append(10)\n",
        "print(numbers)\n"
      ],
      "metadata": {
        "colab": {
          "base_uri": "https://localhost:8080/"
        },
        "id": "Zk4ShTzSq_cw",
        "outputId": "8e9faade-7fc7-45c5-9b35-aeb78e419c1b"
      },
      "execution_count": 10,
      "outputs": [
        {
          "output_type": "stream",
          "name": "stdout",
          "text": [
            "[1, 2, 3, 4, 10]\n"
          ]
        }
      ]
    },
    {
      "cell_type": "code",
      "source": [
        "#8. Write a code to remove the number 3 from the list [1, 2, 3, 4, 5]\n",
        "numbers = [1, 2, 3, 4, 5]\n",
        "numbers.remove(3)\n",
        "print(numbers)\n"
      ],
      "metadata": {
        "colab": {
          "base_uri": "https://localhost:8080/"
        },
        "id": "bSKoO-HfrBdE",
        "outputId": "e7dc631e-36d8-4989-937b-409d21477d3f"
      },
      "execution_count": 11,
      "outputs": [
        {
          "output_type": "stream",
          "name": "stdout",
          "text": [
            "[1, 2, 4, 5]\n"
          ]
        }
      ]
    },
    {
      "cell_type": "code",
      "source": [
        "#9. Write a code to access the second element in the list ['a', 'b', 'c', 'd']\n",
        "letters = ['a', 'b', 'c', 'd']\n",
        "second_element = letters[1]\n",
        "print(second_element)\n"
      ],
      "metadata": {
        "colab": {
          "base_uri": "https://localhost:8080/"
        },
        "id": "gJ0dL7CyrD2z",
        "outputId": "73da8a1a-1e17-4d08-97d5-f9f81e22f6ff"
      },
      "execution_count": 12,
      "outputs": [
        {
          "output_type": "stream",
          "name": "stdout",
          "text": [
            "b\n"
          ]
        }
      ]
    },
    {
      "cell_type": "code",
      "source": [
        "#10. Write a code to reverse the list [10, 20, 30, 40, 50]\n",
        "numbers = [10, 20, 30, 40, 50]\n",
        "reversed_list = numbers[::-1]\n",
        "print(reversed_list)\n"
      ],
      "metadata": {
        "colab": {
          "base_uri": "https://localhost:8080/"
        },
        "id": "OqQGhaCcrJmt",
        "outputId": "b5f32d3e-7063-4ef0-973c-3fceea7a6d19"
      },
      "execution_count": 13,
      "outputs": [
        {
          "output_type": "stream",
          "name": "stdout",
          "text": [
            "[50, 40, 30, 20, 10]\n"
          ]
        }
      ]
    },
    {
      "cell_type": "code",
      "source": [
        "#11. Write a code to create a tuple with the elements 10, 20, 30 and print it\n",
        "my_tuple = (10, 20, 30)\n",
        "print(my_tuple)\n"
      ],
      "metadata": {
        "colab": {
          "base_uri": "https://localhost:8080/"
        },
        "id": "qLnQxZuRrM4P",
        "outputId": "0e0d763b-3804-4199-e7c2-8b0e6088d800"
      },
      "execution_count": 14,
      "outputs": [
        {
          "output_type": "stream",
          "name": "stdout",
          "text": [
            "(10, 20, 30)\n"
          ]
        }
      ]
    },
    {
      "cell_type": "code",
      "source": [
        "#12. Write a code to access the first element of the tuple ('apple', 'banana', 'cherry')\n",
        "fruits = ('apple', 'banana', 'cherry')\n",
        "first_element = fruits[0]\n",
        "print(first_element)\n"
      ],
      "metadata": {
        "colab": {
          "base_uri": "https://localhost:8080/"
        },
        "id": "6Nr38PPKrUZa",
        "outputId": "18683e6f-4fdc-4f1a-c81f-c8d87940cce9"
      },
      "execution_count": 15,
      "outputs": [
        {
          "output_type": "stream",
          "name": "stdout",
          "text": [
            "apple\n"
          ]
        }
      ]
    },
    {
      "cell_type": "code",
      "source": [
        "#13. Write a code to count how many times the number 2 appears in the tuple (1, 2, 3, 2, 4, 2)\n",
        "numbers = (1, 2, 3, 2, 4, 2)\n",
        "count_of_2 = numbers.count(2)\n",
        "print(count_of_2)\n"
      ],
      "metadata": {
        "colab": {
          "base_uri": "https://localhost:8080/"
        },
        "id": "c7dymnLMrWus",
        "outputId": "9617fee9-3682-4717-ddbc-1c6633d3ae43"
      },
      "execution_count": 16,
      "outputs": [
        {
          "output_type": "stream",
          "name": "stdout",
          "text": [
            "3\n"
          ]
        }
      ]
    },
    {
      "cell_type": "code",
      "source": [
        "#14. Write a code to find the index of the element \"cat\" in the tuple ('dog', 'cat', 'rabbit')\n",
        "animals = ('dog', 'cat', 'rabbit')\n",
        "index_of_cat = animals.index('cat')\n",
        "print(index_of_cat)\n"
      ],
      "metadata": {
        "colab": {
          "base_uri": "https://localhost:8080/"
        },
        "id": "JT-teOHHrZ2N",
        "outputId": "a888d1d4-325f-402d-ea96-b754b23588dc"
      },
      "execution_count": 17,
      "outputs": [
        {
          "output_type": "stream",
          "name": "stdout",
          "text": [
            "1\n"
          ]
        }
      ]
    },
    {
      "cell_type": "code",
      "source": [
        "#15. Write a code to check if the element \"banana\" is in the tuple ('apple', 'orange', 'banana')\n",
        "fruits = ('apple', 'orange', 'banana')\n",
        "is_banana_present = 'banana' in fruits\n",
        "print(is_banana_present)\n"
      ],
      "metadata": {
        "colab": {
          "base_uri": "https://localhost:8080/"
        },
        "id": "wC8oNn7MrcLx",
        "outputId": "5fe8c4e1-223e-46ab-9d00-7d9f99f0b950"
      },
      "execution_count": 18,
      "outputs": [
        {
          "output_type": "stream",
          "name": "stdout",
          "text": [
            "True\n"
          ]
        }
      ]
    },
    {
      "cell_type": "code",
      "source": [
        "#16. Write a code to create a set with the elements 1, 2, 3, 4, 5 and print it\n",
        "my_set = {1, 2, 3, 4, 5}\n",
        "print(my_set)\n"
      ],
      "metadata": {
        "colab": {
          "base_uri": "https://localhost:8080/"
        },
        "id": "PN_W2SZKrd21",
        "outputId": "c9940b0a-ef64-498d-eb5a-182be252fe40"
      },
      "execution_count": 19,
      "outputs": [
        {
          "output_type": "stream",
          "name": "stdout",
          "text": [
            "{1, 2, 3, 4, 5}\n"
          ]
        }
      ]
    },
    {
      "cell_type": "code",
      "source": [
        "#17. Write a code to add the element 6 to the set {1, 2, 3, 4}\n",
        "my_set = {1, 2, 3, 4}\n",
        "my_set.add(6)\n",
        "print(my_set)\n"
      ],
      "metadata": {
        "colab": {
          "base_uri": "https://localhost:8080/"
        },
        "id": "UrETWcsRrfkp",
        "outputId": "4af07add-12d1-4127-fdf8-18206d9cc4e3"
      },
      "execution_count": 20,
      "outputs": [
        {
          "output_type": "stream",
          "name": "stdout",
          "text": [
            "{1, 2, 3, 4, 6}\n"
          ]
        }
      ]
    },
    {
      "cell_type": "code",
      "source": [
        "  #18. Write a code to create a tuple with the elements 10, 20, 30 and print it\n",
        "my_tuple = (10, 20, 30)\n",
        "print(my_tuple)\n"
      ],
      "metadata": {
        "colab": {
          "base_uri": "https://localhost:8080/"
        },
        "id": "_rsnDiWErlh9",
        "outputId": "cc3a7675-04c1-4991-9e3d-45c8204020fd"
      },
      "execution_count": 21,
      "outputs": [
        {
          "output_type": "stream",
          "name": "stdout",
          "text": [
            "(10, 20, 30)\n"
          ]
        }
      ]
    },
    {
      "cell_type": "code",
      "source": [
        "#19. Write a code to access the first element of the tuple ('apple', 'banana', 'cherry')\n",
        "fruits = ('apple', 'banana', 'cherry')\n",
        "first_element = fruits[0]\n",
        "print(first_element)\n"
      ],
      "metadata": {
        "colab": {
          "base_uri": "https://localhost:8080/"
        },
        "id": "SBHDcbfNrtL-",
        "outputId": "bc8d3af5-7c6a-4944-a875-245bed829be8"
      },
      "execution_count": 22,
      "outputs": [
        {
          "output_type": "stream",
          "name": "stdout",
          "text": [
            "apple\n"
          ]
        }
      ]
    },
    {
      "cell_type": "code",
      "source": [
        "#20. Write a code to count how many times the number 2 appears in the tuple (1, 2, 3, 2, 4, 2)\n",
        "numbers = (1, 2, 3, 2, 4, 2)\n",
        "count_of_2 = numbers.count(2)\n",
        "print(count_of_2)\n"
      ],
      "metadata": {
        "colab": {
          "base_uri": "https://localhost:8080/"
        },
        "id": "39fDG1HErudi",
        "outputId": "e751ea8e-d62c-4f06-ca14-0e16a4ad68e2"
      },
      "execution_count": 23,
      "outputs": [
        {
          "output_type": "stream",
          "name": "stdout",
          "text": [
            "3\n"
          ]
        }
      ]
    },
    {
      "cell_type": "code",
      "source": [
        "#21. Write a code to find the index of the element \"cat\" in the tuple ('dog', 'cat', 'rabbit')\n",
        "animals = ('dog', 'cat', 'rabbit')\n",
        "index_of_cat = animals.index('cat')\n",
        "print(index_of_cat)\n"
      ],
      "metadata": {
        "colab": {
          "base_uri": "https://localhost:8080/"
        },
        "id": "FeOPS8GNrwkp",
        "outputId": "8f2c5dfe-e498-4975-9d42-ae580386e6b8"
      },
      "execution_count": 24,
      "outputs": [
        {
          "output_type": "stream",
          "name": "stdout",
          "text": [
            "1\n"
          ]
        }
      ]
    },
    {
      "cell_type": "code",
      "source": [
        "#22.  Write a code to check if the element \"banana\" is in the tuple ('apple', 'orange', 'banana')\n",
        "fruits = ('apple', 'orange', 'banana')\n",
        "is_banana_present = 'banana' in fruits\n",
        "print(is_banana_present)\n"
      ],
      "metadata": {
        "colab": {
          "base_uri": "https://localhost:8080/"
        },
        "id": "MayJvPT8r5vG",
        "outputId": "701a4d8a-e172-4c89-f84b-2a4e2ea6d1ef"
      },
      "execution_count": 25,
      "outputs": [
        {
          "output_type": "stream",
          "name": "stdout",
          "text": [
            "True\n"
          ]
        }
      ]
    },
    {
      "cell_type": "code",
      "source": [
        "#23. Write a code to create a set with the elements 1, 2, 3, 4, 5 and print it\n",
        "my_set = {1, 2, 3, 4, 5}\n",
        "print(my_set)\n"
      ],
      "metadata": {
        "colab": {
          "base_uri": "https://localhost:8080/"
        },
        "id": "agrg0sWIr6gg",
        "outputId": "578c746a-b4b6-41e7-eac5-cdd3249e50d9"
      },
      "execution_count": 26,
      "outputs": [
        {
          "output_type": "stream",
          "name": "stdout",
          "text": [
            "{1, 2, 3, 4, 5}\n"
          ]
        }
      ]
    },
    {
      "cell_type": "code",
      "source": [
        "#24. Write a code to add the element 6 to the set {1, 2, 3, 4}\n",
        "my_set = {1, 2, 3, 4}\n",
        "my_set.add(6)\n",
        "print(my_set)\n"
      ],
      "metadata": {
        "colab": {
          "base_uri": "https://localhost:8080/"
        },
        "id": "AXKcZz3kr8KO",
        "outputId": "7b6df74e-47e2-4910-e167-3e08f643d532"
      },
      "execution_count": 27,
      "outputs": [
        {
          "output_type": "stream",
          "name": "stdout",
          "text": [
            "{1, 2, 3, 4, 6}\n"
          ]
        }
      ]
    }
  ]
}